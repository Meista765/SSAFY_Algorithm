{
 "cells": [
  {
   "cell_type": "code",
   "execution_count": 1,
   "metadata": {},
   "outputs": [
    {
     "name": "stdout",
     "output_type": "stream",
     "text": [
      "8 7 6 5 4 3 2 1 0 "
     ]
    }
   ],
   "source": [
    "# 1545\n",
    "num = int(input())\n",
    "lst = []\n",
    "for idx in range(num+1):\n",
    "\tlst.append(idx)\n",
    "\n",
    "lst.reverse()\n",
    "for i in lst:\n",
    "    print(i, end = ' ')"
   ]
  },
  {
   "cell_type": "code",
   "execution_count": 2,
   "metadata": {},
   "outputs": [
    {
     "name": "stdout",
     "output_type": "stream",
     "text": [
      "1 2 4 8 16 32 64 128 256 "
     ]
    }
   ],
   "source": [
    "# 2019\n",
    "n = int(input())\n",
    "for idx in range(n+1):\n",
    "    print(2**idx, end = ' ')"
   ]
  },
  {
   "cell_type": "code",
   "execution_count": 3,
   "metadata": {},
   "outputs": [
    {
     "name": "stdout",
     "output_type": "stream",
     "text": [
      "A\n"
     ]
    }
   ],
   "source": [
    "# 1936\n",
    "a, b = map(int, input().split()) \n",
    "if a == 3:\n",
    " if b==1:\n",
    "   print(\"B\")\n",
    " else:\n",
    "  print(\"A\")\n",
    "elif a==2:\n",
    " if b==1:\n",
    "  print(\"A\")\n",
    "else:\n",
    " if b==2:\n",
    "  print(\"A\")\n",
    " else:\n",
    "  print(\"B\")"
   ]
  },
  {
   "cell_type": "code",
   "execution_count": 4,
   "metadata": {},
   "outputs": [
    {
     "name": "stdout",
     "output_type": "stream",
     "text": [
      "1 2 5 10 "
     ]
    }
   ],
   "source": [
    "# 1933\n",
    "n = int(input())\n",
    "lst = []\n",
    "for idx in range(1, n+1):\n",
    "    if n % idx == 0:\n",
    "        lst.append(idx)\n",
    "for idx in lst:\n",
    "    print(idx, end = ' ')"
   ]
  },
  {
   "cell_type": "code",
   "execution_count": 5,
   "metadata": {},
   "outputs": [
    {
     "name": "stdout",
     "output_type": "stream",
     "text": [
      "11\n",
      "5\n",
      "24\n",
      "2\n"
     ]
    }
   ],
   "source": [
    "# 1938\n",
    "a, b = map(int, input().split())\n",
    "print(a+b)\n",
    "print(a-b)\n",
    "print(a*b)\n",
    "print(round(a%b))"
   ]
  },
  {
   "cell_type": "code",
   "execution_count": 6,
   "metadata": {},
   "outputs": [
    {
     "name": "stdout",
     "output_type": "stream",
     "text": [
      "55\n"
     ]
    }
   ],
   "source": [
    "# 2025\n",
    "n = int(input())\n",
    "sum = 0\n",
    "for idx in range(1, n+1):\n",
    "    sum += idx\n",
    "print(sum)"
   ]
  },
  {
   "cell_type": "code",
   "execution_count": 7,
   "metadata": {},
   "outputs": [
    {
     "name": "stdout",
     "output_type": "stream",
     "text": [
      "#++++\n",
      "+#+++\n",
      "++#++\n",
      "+++#+\n",
      "++++#\n"
     ]
    }
   ],
   "source": [
    "# 2027\n",
    "print('#++++')\n",
    "print('+#+++')\n",
    "print('++#++')\n",
    "print('+++#+')\n",
    "print('++++#')"
   ]
  },
  {
   "cell_type": "code",
   "execution_count": 8,
   "metadata": {},
   "outputs": [
    {
     "name": "stdout",
     "output_type": "stream",
     "text": [
      "#1 4 1\n",
      "#2 2 3\n",
      "#3 24 9\n"
     ]
    }
   ],
   "source": [
    "# 2029\n",
    "T = int(input())\n",
    "for test_case in range(1, T + 1):\n",
    "    a,b = map(int, input().split())\n",
    "    num1 = a//b\n",
    "    num2 = a%b\n",
    "    print(f'#{test_case} {num1} {num2}')"
   ]
  },
  {
   "cell_type": "code",
   "execution_count": 9,
   "metadata": {},
   "outputs": [
    {
     "name": "stdout",
     "output_type": "stream",
     "text": [
      "24\n"
     ]
    }
   ],
   "source": [
    "# 2043\n",
    "P, K = map(int, input().split())\n",
    "print(P-K+1)"
   ]
  },
  {
   "cell_type": "code",
   "execution_count": 10,
   "metadata": {},
   "outputs": [
    {
     "name": "stdout",
     "output_type": "stream",
     "text": [
      "###\n"
     ]
    }
   ],
   "source": [
    "# 2046\n",
    "n =int(input())\n",
    "print('#'*n)"
   ]
  },
  {
   "cell_type": "code",
   "execution_count": 11,
   "metadata": {},
   "outputs": [
    {
     "name": "stdout",
     "output_type": "stream",
     "text": [
      "THE_HEADLINE_IS_THE_TEXT_INDICATING_THE_NATURE_OF_THE_ARTICLE_BELOW_IT."
     ]
    }
   ],
   "source": [
    "# 2047\n",
    "texts = input()\n",
    "\n",
    "for text in texts:\n",
    "    if text.islower:\n",
    "        print(text.upper(), end='')\n",
    "    else:\n",
    "        print(text,end='')"
   ]
  },
  {
   "cell_type": "code",
   "execution_count": 12,
   "metadata": {},
   "outputs": [
    {
     "name": "stdout",
     "output_type": "stream",
     "text": [
      "1 2 3 4 5 6 7 8 9 10 11 12 13 14 15 16 17 18 19 20 21 22 23 24 25 26 "
     ]
    }
   ],
   "source": [
    "# 2050 (아스키코드)\n",
    "texts = input()\n",
    "for text in texts:\n",
    "    num = ord(text) -64\n",
    "    print(num, end=' ')"
   ]
  },
  {
   "cell_type": "code",
   "execution_count": 13,
   "metadata": {},
   "outputs": [
    {
     "name": "stdout",
     "output_type": "stream",
     "text": [
      "#1 2222/02/28\n",
      "#2 -1\n",
      "#3 0101/01/01\n",
      "#4 -1\n",
      "#5 1111/11/11\n"
     ]
    }
   ],
   "source": [
    "# 2056\n",
    "T = int(input())\n",
    "# 여러개의 테스트 케이스가 주어지므로, 각각을 처리합니다.\n",
    "day_dict = {'01': 31, '02': 28, '03': 31, '04': 30, '05': 31, '06': 30,\n",
    "           '07': 31, '08': 31, '09': 30, '10': 31, '11': 30, '12': 31}\n",
    "for test_case in range(1, T + 1):\n",
    "    input_day = str(input())\n",
    "    year = input_day[:4]\n",
    "    month = input_day[4:6]\n",
    "    day = input_day[6:]\n",
    "    if 0 < int(month) <= 12 and 0 < int(day) <= int(day_dict[month]):\n",
    "        result = year + '/' + month + '/' + day\n",
    "        print(f'#{test_case} {result}')\n",
    "    else:\n",
    "        print(f'#{test_case} -1')"
   ]
  },
  {
   "cell_type": "code",
   "execution_count": 16,
   "metadata": {},
   "outputs": [
    {
     "name": "stdout",
     "output_type": "stream",
     "text": [
      "30\n"
     ]
    }
   ],
   "source": [
    "# 2058\n",
    "a = input()      \n",
    "sum = 0\n",
    "for i in a:\n",
    "    sum += int(i)\n",
    "\n",
    "print(sum)    "
   ]
  },
  {
   "cell_type": "code",
   "execution_count": 17,
   "metadata": {},
   "outputs": [
    {
     "name": "stdout",
     "output_type": "stream",
     "text": [
      "58\n"
     ]
    }
   ],
   "source": [
    "# 2063\n",
    "a=int(input())\n",
    "b=list(map(int, (input().split())))\n",
    "c=sorted(b)\n",
    "d=c[a//2]\n",
    "print(d)"
   ]
  },
  {
   "cell_type": "code",
   "execution_count": 18,
   "metadata": {},
   "outputs": [
    {
     "name": "stdout",
     "output_type": "stream",
     "text": [
      "#1 99\n",
      "#2 123\n",
      "#3 76\n"
     ]
    }
   ],
   "source": [
    "# 2068\n",
    "T = int(input())\n",
    "for test_case in range(1, T + 1):\n",
    "    largest_val = 0\n",
    "    val_list = list(map(int, input().split()))\n",
    "    for i in range(len(val_list)):\n",
    "        if val_list[i] > largest_val:\n",
    "            largest_val = val_list[i]\n",
    "    print(f'#{test_case}',largest_val)"
   ]
  },
  {
   "cell_type": "code",
   "execution_count": 19,
   "metadata": {},
   "outputs": [
    {
     "name": "stdout",
     "output_type": "stream",
     "text": [
      "#1 <\n",
      "#2 =\n",
      "#3 >\n"
     ]
    }
   ],
   "source": [
    "# 2070\n",
    "T = int(input())\n",
    "for test_case in range(1, T + 1):\n",
    "    val1, val2 = map(int, input().split())\n",
    "    result = ''\n",
    "    if val1 < val2:\n",
    "        result = '<'\n",
    "    elif val1 == val2:\n",
    "        result = '='\n",
    "    else:\n",
    "        result = '>'\n",
    "    print(f'#{test_case} {result}')"
   ]
  },
  {
   "cell_type": "code",
   "execution_count": 20,
   "metadata": {},
   "outputs": [
    {
     "name": "stdout",
     "output_type": "stream",
     "text": [
      "#1 24\n",
      "#2 29\n",
      "#3 27\n"
     ]
    }
   ],
   "source": [
    "# 2071\n",
    "T = int(input())\n",
    "for test_case in range(1, T + 1):\n",
    "    val_list = list(map(int, input().split()))\n",
    "    total_sum = 0\n",
    "    average = 0\n",
    "    for i in range(len(val_list)):\n",
    "        total_sum += val_list[i]\n",
    "    average = round(total_sum / len(val_list))\n",
    "    print(f'#{test_case}', average)"
   ]
  },
  {
   "cell_type": "code",
   "execution_count": 21,
   "metadata": {},
   "outputs": [
    {
     "name": "stdout",
     "output_type": "stream",
     "text": [
      "#1 200\n",
      "#2 208\n",
      "#3 121\n"
     ]
    }
   ],
   "source": [
    "# 2072\n",
    "T = int(input())\n",
    "for test_case in range(1, T + 1):\n",
    "    value_list = list(map(int, input().split()))\n",
    "    sum_num = 0\n",
    "    for i in range(len(value_list)):\n",
    "        if value_list[i] % 2 == 1:\n",
    "            sum_num += value_list[i]\n",
    "    print(f'#{test_case}', sum_num) "
   ]
  }
 ],
 "metadata": {
  "kernelspec": {
   "display_name": "Python 3",
   "language": "python",
   "name": "python3"
  },
  "language_info": {
   "codemirror_mode": {
    "name": "ipython",
    "version": 3
   },
   "file_extension": ".py",
   "mimetype": "text/x-python",
   "name": "python",
   "nbconvert_exporter": "python",
   "pygments_lexer": "ipython3",
   "version": "3.9.13"
  }
 },
 "nbformat": 4,
 "nbformat_minor": 2
}

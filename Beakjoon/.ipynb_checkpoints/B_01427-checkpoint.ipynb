{
 "cells": [
  {
   "cell_type": "code",
   "execution_count": 6,
   "id": "3166e18a-a1e0-4872-9a31-f353d6dc3344",
   "metadata": {},
   "outputs": [
    {
     "name": "stdin",
     "output_type": "stream",
     "text": [
      " 12345789\n"
     ]
    },
    {
     "name": "stdout",
     "output_type": "stream",
     "text": [
      "98754321"
     ]
    }
   ],
   "source": [
    "# 왜 안되냐\n",
    "\n",
    "import sys\n",
    "input = sys.stdin.readline\n",
    "print = sys.stdout.write\n",
    "\n",
    "n = list(map(int, input()))\n",
    "length = len(n)\n",
    "for i in range(length - 1):\n",
    "    max_idx = i\n",
    "    for j in range(i + 1, length):\n",
    "        if n[j] > n[max_idx]:\n",
    "            max_idx = j\n",
    "    n[i], n[max_idx] = n[max_idx], n[i]\n",
    "\n",
    "for i in range(length):\n",
    "    print(n[i])"
   ]
  }
 ],
 "metadata": {
  "kernelspec": {
   "display_name": "Python 3 (ipykernel)",
   "language": "python",
   "name": "python3"
  },
  "language_info": {
   "codemirror_mode": {
    "name": "ipython",
    "version": 3
   },
   "file_extension": ".py",
   "mimetype": "text/x-python",
   "name": "python",
   "nbconvert_exporter": "python",
   "pygments_lexer": "ipython3",
   "version": "3.9.12"
  }
 },
 "nbformat": 4,
 "nbformat_minor": 5
}

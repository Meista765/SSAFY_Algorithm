{
 "cells": [
  {
   "cell_type": "code",
   "execution_count": null,
   "id": "4c0eb159-e91a-4d73-b5db-9ea12bfd6569",
   "metadata": {},
   "outputs": [],
   "source": [
    "import sys\n",
    "input = sys.stdin.readline\n",
    "\n",
    "N = int(input())\n",
    "A = []\n",
    "\n",
    "for i in range(N):\n",
    "    A.append((int(input()), i)) # (value, index) 저장\n",
    "    \n",
    "Max = 0\n",
    "sorted_A = sorted(A) # default 옵션 활용, value 기준 정렬\n",
    "\n",
    "for i in range(N): # 인덱스 차이로 실행되지 않은 step 구하기\n",
    "    if Max < sorted_A[i][1] - i:\n",
    "        Max = sorted_a[i][1] - i\n",
    "\n",
    "print(Max + 1)"
   ]
  }
 ],
 "metadata": {
  "kernelspec": {
   "display_name": "Python 3 (ipykernel)",
   "language": "python",
   "name": "python3"
  },
  "language_info": {
   "codemirror_mode": {
    "name": "ipython",
    "version": 3
   },
   "file_extension": ".py",
   "mimetype": "text/x-python",
   "name": "python",
   "nbconvert_exporter": "python",
   "pygments_lexer": "ipython3",
   "version": "3.9.12"
  }
 },
 "nbformat": 4,
 "nbformat_minor": 5
}

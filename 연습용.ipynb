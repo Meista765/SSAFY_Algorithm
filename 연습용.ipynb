{
 "cells": [
  {
   "cell_type": "code",
   "execution_count": 4,
   "id": "c7bdb26d",
   "metadata": {},
   "outputs": [
    {
     "name": "stdout",
     "output_type": "stream",
     "text": [
      "0\n"
     ]
    }
   ],
   "source": [
    "arr = [1,2,3,4,5]\n",
    "\n",
    "def f(i, N, v):\n",
    "    if i == N:\n",
    "        return 0\n",
    "    elif arr[i] == v:\n",
    "        return i\n",
    "    else:\n",
    "        return f(i + 1, N, v)\n",
    "\n",
    "print(f(0, len(arr), 6))"
   ]
  },
  {
   "cell_type": "code",
   "execution_count": 6,
   "id": "6962fa66",
   "metadata": {},
   "outputs": [
    {
     "name": "stdout",
     "output_type": "stream",
     "text": [
      "False\n"
     ]
    }
   ],
   "source": [
    "if not 0:\n",
    "    print(False)"
   ]
  },
  {
   "cell_type": "code",
   "execution_count": 14,
   "id": "b37a43a6",
   "metadata": {},
   "outputs": [],
   "source": [
    "N, *numbers = input().split()\n"
   ]
  },
  {
   "cell_type": "code",
   "execution_count": 20,
   "id": "53931704",
   "metadata": {},
   "outputs": [
    {
     "ename": "TypeError",
     "evalue": "list indices must be integers or slices, not tuple",
     "output_type": "error",
     "traceback": [
      "\u001b[1;31m---------------------------------------------------------------------------\u001b[0m",
      "\u001b[1;31mTypeError\u001b[0m                                 Traceback (most recent call last)",
      "Cell \u001b[1;32mIn[20], line 1\u001b[0m\n\u001b[1;32m----> 1\u001b[0m \u001b[43mw\u001b[49m\u001b[43m \u001b[49m\u001b[43m[\u001b[49m\u001b[38;5;241;43m1\u001b[39;49m\u001b[43m,\u001b[49m\u001b[38;5;241;43m2\u001b[39;49m\u001b[43m,\u001b[49m\u001b[38;5;241;43m3\u001b[39;49m\u001b[43m]\u001b[49m\n\u001b[0;32m      2\u001b[0m e \u001b[38;5;241m=\u001b[39m \u001b[38;5;28mstr\u001b[39m(\u001b[38;5;241m*\u001b[39mw)\n\u001b[0;32m      3\u001b[0m e\n",
      "\u001b[1;31mTypeError\u001b[0m: list indices must be integers or slices, not tuple"
     ]
    }
   ],
   "source": [
    "w [1,2,3]\n",
    "e = str(*w)\n",
    "e"
   ]
  },
  {
   "cell_type": "code",
   "execution_count": null,
   "id": "0bab08c5",
   "metadata": {},
   "outputs": [],
   "source": [
    "T = int(input())\n",
    "\n",
    "for tc in range(1, T+1):\n",
    "\n",
    "    arr = input()\n",
    "    S = []\n",
    "    top = -1\n",
    "    is_ok = 1\n",
    "    bracket = {'(' : ')', '[':']', '{':'}'}\n",
    "\n",
    "    for i in arr:\n",
    "        if i in bracket.keys():\n",
    "            S.append(i)       # 여는괄호 경우 : top의 인덱스 값에 여는 괄호를 stack에 기록(push)\n",
    "            # print(S)\n",
    "        elif i in bracket.values():         # 닫는 괄호 경우 :\n",
    "            if len[S] != 0 and i == S[-1]: # 비어있지않고 짝이 같으면,\n",
    "                S.pop() # 마지막 값 사라짐\n",
    "                 # 제일 높은 인덱스를 낮춰주기\n",
    "                # print(S)\n",
    "            else:\n",
    "                is_ok = 0\n",
    "\n",
    "    if len(S) != 0:\n",
    "        is_ok = 0 #반복이 끝나도 스택이 비어있지않으면 에러임.\n",
    "\n",
    "    print(f'#{tc} {is_ok}')"
   ]
  },
  {
   "cell_type": "code",
   "execution_count": 4,
   "id": "0f5b7829",
   "metadata": {},
   "outputs": [
    {
     "name": "stdout",
     "output_type": "stream",
     "text": [
      "\n"
     ]
    }
   ],
   "source": [
    "v, e = map(int, input().split()) # 정점, 간선\n",
    "g = [[] for _ in range(51)] # 인접 행렬\n",
    "for _ in range(e):\n",
    "    v1, v2 = map(int, input().split())\n",
    "    g[v1].append(v2)\n",
    "    g[v2].append(v1)\n",
    "print()"
   ]
  },
  {
   "cell_type": "code",
   "execution_count": 5,
   "id": "4e334859",
   "metadata": {},
   "outputs": [
    {
     "name": "stdout",
     "output_type": "stream",
     "text": [
      "[[], [4, 3], [3, 5], [1, 2], [1, 6], [2], [4], [], [], [], [], [], [], [], [], [], [], [], [], [], [], [], [], [], [], [], [], [], [], [], [], [], [], [], [], [], [], [], [], [], [], [], [], [], [], [], [], [], [], [], []]\n"
     ]
    }
   ],
   "source": [
    "print(g)"
   ]
  }
 ],
 "metadata": {
  "kernelspec": {
   "display_name": "Python 3 (ipykernel)",
   "language": "python",
   "name": "python3"
  },
  "language_info": {
   "codemirror_mode": {
    "name": "ipython",
    "version": 3
   },
   "file_extension": ".py",
   "mimetype": "text/x-python",
   "name": "python",
   "nbconvert_exporter": "python",
   "pygments_lexer": "ipython3",
   "version": "3.9.13"
  }
 },
 "nbformat": 4,
 "nbformat_minor": 5
}

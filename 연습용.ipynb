{
 "cells": [
  {
   "cell_type": "code",
   "execution_count": 28,
   "id": "bb36a955-7ac2-402e-ad33-7aa26d3992fd",
   "metadata": {},
   "outputs": [
    {
     "name": "stdout",
     "output_type": "stream",
     "text": [
      " 1\n",
      " 3 \n",
      " 2 1 2\n",
      " 5 8 5\n",
      " 7 2 2\n"
     ]
    },
    {
     "name": "stdout",
     "output_type": "stream",
     "text": [
      "#1 8\n"
     ]
    }
   ],
   "source": [
    "def permutation(k, N):\n",
    "    # 외부 변수 호출\n",
    "    global min_sum\n",
    "    sum_value = 0\n",
    "    if k == N:\n",
    "        for i in range(N):\n",
    "            sum_value +=  matrix[i][arr[i]]\n",
    "            # 더하는 중에 min_sum 넘어가면 다음 반복\n",
    "            ## 이거 여기서 하면 안됨\n",
    "            if sum_value > min_sum:\n",
    "                break\n",
    "        if sum_value < min_sum:\n",
    "            min_sum = sum_value\n",
    "    else:\n",
    "        for i in range(k, N):\n",
    "            arr[k], arr[i] = arr[i], arr[k]\n",
    "            permutation(k + 1, N)\n",
    "            arr[k], arr[i] = arr[i], arr[k]\n",
    "    return min_sum\n",
    "\n",
    "T = int(input())\n",
    "\n",
    "for tc in range(1, T + 1):\n",
    "    N = int(input())\n",
    "    matrix = [list(map(int, input().split())) for _ in range(N)]\n",
    "    arr = list(range(N))\n",
    "    min_sum = float('inf')\n",
    "    \n",
    "    minimum = permutation(0, N)\n",
    "    \n",
    "    print(f'#{tc} {minimum}')"
   ]
  },
  {
   "cell_type": "code",
   "execution_count": 35,
   "id": "bdca53b7-a049-4216-9c92-ce3c997529ab",
   "metadata": {},
   "outputs": [],
   "source": [
    "def perm(k, N):\n",
    "    print(arr)\n",
    "    for i in range(k, N):\n",
    "        arr[k], arr[i] = arr[i], arr[k]\n",
    "        perm(k + 1, N)\n",
    "        # 재배열\n",
    "        arr[k], arr[i] = arr[i], arr[k]"
   ]
  },
  {
   "cell_type": "code",
   "execution_count": 36,
   "id": "6660a2a4-4de3-409f-b588-297311132a31",
   "metadata": {},
   "outputs": [
    {
     "name": "stdout",
     "output_type": "stream",
     "text": [
      "[0, 1, 2]\n",
      "[0, 1, 2]\n",
      "[0, 1, 2]\n",
      "[0, 1, 2]\n",
      "[0, 2, 1]\n",
      "[0, 2, 1]\n",
      "[1, 0, 2]\n",
      "[1, 0, 2]\n",
      "[1, 0, 2]\n",
      "[1, 2, 0]\n",
      "[1, 2, 0]\n",
      "[2, 1, 0]\n",
      "[2, 1, 0]\n",
      "[2, 1, 0]\n",
      "[2, 0, 1]\n",
      "[2, 0, 1]\n"
     ]
    }
   ],
   "source": [
    "arr = list(range(3))\n",
    "perm(0, 3)"
   ]
  },
  {
   "cell_type": "code",
   "execution_count": 19,
   "id": "70c22f79-ebde-4a5a-bee8-262470a6db0d",
   "metadata": {},
   "outputs": [
    {
     "ename": "NameError",
     "evalue": "name 'min_value' is not defined",
     "output_type": "error",
     "traceback": [
      "\u001b[1;31m---------------------------------------------------------------------------\u001b[0m",
      "\u001b[1;31mNameError\u001b[0m                                 Traceback (most recent call last)",
      "Cell \u001b[1;32mIn[19], line 3\u001b[0m\n\u001b[0;32m      1\u001b[0m arr \u001b[38;5;241m=\u001b[39m \u001b[38;5;28mlist\u001b[39m(\u001b[38;5;28mrange\u001b[39m(\u001b[38;5;241m3\u001b[39m))\n\u001b[0;32m      2\u001b[0m permutation(\u001b[38;5;241m0\u001b[39m, \u001b[38;5;241m3\u001b[39m)\n\u001b[1;32m----> 3\u001b[0m \u001b[43mmin_value\u001b[49m\n",
      "\u001b[1;31mNameError\u001b[0m: name 'min_value' is not defined"
     ]
    }
   ],
   "source": [
    "arr = list(range(3))\n",
    "min_value\n",
    "permutation(0, 3)\n"
   ]
  },
  {
   "cell_type": "code",
   "execution_count": 15,
   "id": "8ae8cb1f-32bc-4788-a4d1-a569a07ed822",
   "metadata": {},
   "outputs": [
    {
     "data": {
      "text/plain": [
       "inf"
      ]
     },
     "execution_count": 15,
     "metadata": {},
     "output_type": "execute_result"
    }
   ],
   "source": [
    "min_sum"
   ]
  },
  {
   "cell_type": "code",
   "execution_count": 2,
   "id": "4372a1a1-b193-4d0e-aa5e-65f88dc85d5d",
   "metadata": {},
   "outputs": [
    {
     "name": "stdout",
     "output_type": "stream",
     "text": [
      "(0, 2)\n"
     ]
    }
   ],
   "source": [
    "w = [1,2,3]\n",
    "\n",
    "for i in range(len(w)):\n",
    "    if w[i] == 3:\n",
    "        pp = 0, i\n",
    "\n",
    "print(pp)"
   ]
  },
  {
   "cell_type": "code",
   "execution_count": 6,
   "id": "6962fa66",
   "metadata": {},
   "outputs": [
    {
     "name": "stdout",
     "output_type": "stream",
     "text": [
      "False\n"
     ]
    }
   ],
   "source": [
    "if not 0:\n",
    "    print(False)"
   ]
  },
  {
   "cell_type": "code",
   "execution_count": 14,
   "id": "b37a43a6",
   "metadata": {},
   "outputs": [],
   "source": [
    "N, *numbers = input().split()\n"
   ]
  },
  {
   "cell_type": "code",
   "execution_count": null,
   "id": "0bab08c5",
   "metadata": {},
   "outputs": [],
   "source": [
    "T = int(input())\n",
    "\n",
    "for tc in range(1, T+1):\n",
    "\n",
    "    arr = input()\n",
    "    S = []\n",
    "    top = -1\n",
    "    is_ok = 1\n",
    "    bracket = {'(' : ')', '[':']', '{':'}'}\n",
    "\n",
    "    for i in arr:\n",
    "        if i in bracket.keys():\n",
    "            S.append(i)       # 여는괄호 경우 : top의 인덱스 값에 여는 괄호를 stack에 기록(push)\n",
    "            # print(S)\n",
    "        elif i in bracket.values():         # 닫는 괄호 경우 :\n",
    "            if len[S] != 0 and i == S[-1]: # 비어있지않고 짝이 같으면,\n",
    "                S.pop() # 마지막 값 사라짐\n",
    "                 # 제일 높은 인덱스를 낮춰주기\n",
    "                # print(S)\n",
    "            else:\n",
    "                is_ok = 0\n",
    "\n",
    "    if len(S) != 0:\n",
    "        is_ok = 0 #반복이 끝나도 스택이 비어있지않으면 에러임.\n",
    "\n",
    "    print(f'#{tc} {is_ok}')"
   ]
  },
  {
   "cell_type": "code",
   "execution_count": 1,
   "id": "04f41d33-e0d1-477e-89cd-e02fd43ca07b",
   "metadata": {},
   "outputs": [
    {
     "data": {
      "text/plain": [
       "1"
      ]
     },
     "execution_count": 1,
     "metadata": {},
     "output_type": "execute_result"
    }
   ],
   "source": [
    "7 % 2"
   ]
  },
  {
   "cell_type": "code",
   "execution_count": 4,
   "id": "0f5b7829",
   "metadata": {},
   "outputs": [
    {
     "name": "stdout",
     "output_type": "stream",
     "text": [
      "\n"
     ]
    }
   ],
   "source": [
    "v, e = map(int, input().split()) # 정점, 간선\n",
    "g = [[] for _ in range(51)] # 인접 행렬\n",
    "for _ in range(e):\n",
    "    v1, v2 = map(int, input().split())\n",
    "    g[v1].append(v2)\n",
    "    g[v2].append(v1)\n",
    "print()"
   ]
  },
  {
   "cell_type": "code",
   "execution_count": 5,
   "id": "4e334859",
   "metadata": {},
   "outputs": [
    {
     "name": "stdout",
     "output_type": "stream",
     "text": [
      "[[], [4, 3], [3, 5], [1, 2], [1, 6], [2], [4], [], [], [], [], [], [], [], [], [], [], [], [], [], [], [], [], [], [], [], [], [], [], [], [], [], [], [], [], [], [], [], [], [], [], [], [], [], [], [], [], [], [], [], []]\n"
     ]
    }
   ],
   "source": [
    "print(g)"
   ]
  },
  {
   "cell_type": "code",
   "execution_count": 20,
   "id": "ae23ebf4-1a80-402b-82cb-ea17844d47d7",
   "metadata": {},
   "outputs": [],
   "source": [
    "def square(N):\n",
    "    if N == 10:\n",
    "        return 1\n",
    "    else:\n",
    "        if (N // 10) % 2 == 1:\n",
    "            return ((score(N - 10)) * 2 - 1)\n",
    "        else:\n",
    "            return ((score(N - 10)) * 2 + 1)"
   ]
  },
  {
   "cell_type": "code",
   "execution_count": 41,
   "id": "276ef343-69be-48af-9351-086f8f3cd771",
   "metadata": {},
   "outputs": [
    {
     "name": "stdout",
     "output_type": "stream",
     "text": [
      " 3\n",
      " 30\n",
      "#1 5\n",
      " 50\n",
      "#2 21\n",
      " 70\n",
      "#3 85\n"
     ]
    }
   ],
   "source": [
    "def square(n):\n",
    "    global memo\n",
    "    if n > 2:\n",
    "        memo[n] = square(n - 1) + 2 * square(n - 2)\n",
    "    return memo[n]\n",
    "\n",
    "T = int(input())\n",
    "\n",
    "for tc in range(1, T + 1):\n",
    "    N = int(input())\n",
    "\n",
    "    memo = [0] * (N + 1)\n",
    "    memo[1] = 1\n",
    "    memo[2] = 3\n",
    "\n",
    "    num = square(int(N / 10))\n",
    "    \n",
    "    print(f'#{tc} {num}')"
   ]
  },
  {
   "cell_type": "code",
   "execution_count": 1,
   "id": "54ee3be3",
   "metadata": {},
   "outputs": [
    {
     "data": {
      "text/plain": [
       "[1, 2, 3, 4]"
      ]
     },
     "execution_count": 1,
     "metadata": {},
     "output_type": "execute_result"
    }
   ],
   "source": [
    "w = [1,2,3,4,5]\n",
    "w.pop(4)\n",
    "w"
   ]
  },
  {
   "cell_type": "code",
   "execution_count": 2,
   "id": "8ae94476",
   "metadata": {},
   "outputs": [
    {
     "name": "stdout",
     "output_type": "stream",
     "text": [
      "True\n"
     ]
    }
   ],
   "source": [
    "w = []\n",
    "\n",
    "if not w:\n",
    "    print(True)"
   ]
  },
  {
   "cell_type": "code",
   "execution_count": 8,
   "id": "1c515479",
   "metadata": {},
   "outputs": [
    {
     "name": "stdout",
     "output_type": "stream",
     "text": [
      "['4', '1', '2', '3', 's', 'd']\n"
     ]
    }
   ],
   "source": [
    "w = input()\n",
    "w = w.split(' ')\n",
    "print(w)"
   ]
  },
  {
   "cell_type": "code",
   "execution_count": 5,
   "id": "3490428f",
   "metadata": {},
   "outputs": [
    {
     "name": "stdout",
     "output_type": "stream",
     "text": [
      "[0, 0, 0, 0] ==> 0\n",
      "[0, 0, 0, 1] 2 ==> 2\n",
      "[0, 0, 1, 0] 1 ==> 1\n",
      "[0, 0, 1, 1] 1 2 ==> 3\n",
      "[0, 1, 0, 0] 2 ==> 2\n",
      "[0, 1, 0, 1] 2 2 ==> 4\n",
      "[0, 1, 1, 0] 2 1 ==> 3\n",
      "[0, 1, 1, 1] 2 1 2 ==> 5\n",
      "[1, 0, 0, 0] 1 ==> 1\n",
      "[1, 0, 0, 1] 1 2 ==> 3\n",
      "[1, 0, 1, 0] 1 1 ==> 2\n",
      "[1, 0, 1, 1] 1 1 2 ==> 4\n",
      "[1, 1, 0, 0] 1 2 ==> 3\n",
      "[1, 1, 0, 1] 1 2 2 ==> 5\n",
      "[1, 1, 1, 0] 1 2 1 ==> 4\n",
      "[1, 1, 1, 1] 1 2 1 2 ==> 6\n"
     ]
    }
   ],
   "source": [
    "arr = [1, 2, 1, 2]\n",
    "N, K = 4, 3\n",
    "bits = [0] * N\n",
    "def subset(k, n): # k: 함수호출의 깊이, 노드의 높이, for문의 중첩횟수\n",
    "    if k == n:\n",
    "        print(bits, end=' ')\n",
    "        S = 0\n",
    "        for i in range(n):\n",
    "            if bits[i]:\n",
    "                print(arr[i], end=' ')\n",
    "                S += arr[i]\n",
    "        print('==>', S)\n",
    "    else:\n",
    "        bits[k] = 0\n",
    "        subset(k + 1, n)\n",
    "        bits[k] = 1\n",
    "        subset(k + 1, n)\n",
    "\n",
    "subset(0, N)"
   ]
  }
 ],
 "metadata": {
  "kernelspec": {
   "display_name": "Python 3 (ipykernel)",
   "language": "python",
   "name": "python3"
  },
  "language_info": {
   "codemirror_mode": {
    "name": "ipython",
    "version": 3
   },
   "file_extension": ".py",
   "mimetype": "text/x-python",
   "name": "python",
   "nbconvert_exporter": "python",
   "pygments_lexer": "ipython3",
   "version": "3.9.12"
  }
 },
 "nbformat": 4,
 "nbformat_minor": 5
}

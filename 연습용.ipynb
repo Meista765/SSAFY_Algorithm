{
 "cells": [
  {
   "cell_type": "code",
   "execution_count": 16,
   "id": "51215940-daaf-41d0-9707-91aa6c2a2703",
   "metadata": {},
   "outputs": [],
   "source": [
    "w = [1,2,3,5,7,9,0,4,2,35,2,14,3,6,5,7,4,23,5,67,2,4,71]"
   ]
  },
  {
   "cell_type": "code",
   "execution_count": 20,
   "id": "56a489f1-eaee-419b-bc9e-8bc666f36642",
   "metadata": {},
   "outputs": [
    {
     "name": "stdout",
     "output_type": "stream",
     "text": [
      "[0, 1, 2, 2, 2, 2, 3, 3, 4, 4, 4, 5, 5, 5, 6, 7, 7, 9, 14, 23, 35, 67, 71]\n"
     ]
    }
   ],
   "source": [
    "# bubble sort\n",
    "\n",
    "def bubble_sort(arr):\n",
    "    N = len(arr)\n",
    "    for i in range(N-1, 0, -1):\n",
    "        for j in range(i):\n",
    "            if arr[j] > arr[j + 1]:\n",
    "                arr[j], arr[j + 1] = arr[j + 1], arr[j]\n",
    "    return arr\n",
    "\n",
    "print(bubble_sort(w))"
   ]
  },
  {
   "cell_type": "code",
   "execution_count": 23,
   "id": "d35ecb69-003a-4580-912c-8ddb222bcbcd",
   "metadata": {},
   "outputs": [
    {
     "name": "stdout",
     "output_type": "stream",
     "text": [
      "[0, 1, 2, 2, 2, 2, 3, 3, 4, 4, 4, 5, 5, 5, 6, 7, 7, 9, 14, 23, 35, 67, 71]\n"
     ]
    }
   ],
   "source": [
    "# counting sort\n",
    "\n",
    "def counting_sort(arr):\n",
    "    N = len(arr)\n",
    "    max_value = 0\n",
    "    for num in arr:\n",
    "        if max_value <= num:\n",
    "            max_value = num\n",
    "    \n",
    "    # count  list 만들기\n",
    "    count_list = [0] * (max_value + 1)\n",
    "    for num in arr:\n",
    "        count_list[num] += 1\n",
    "    \n",
    "    # 구간 합 리스트\n",
    "    adj_list = [0] * (max_value + 1)\n",
    "    adj_list[0] = count_list[0]\n",
    "    for i in range(1, max_value + 1):\n",
    "        adj_list[i] = adj_list[i - 1] + count_list[i]\n",
    "\n",
    "    # 정렬\n",
    "    sorted_list = [0] * N\n",
    "    for i in range(N - 1, -1, -1):\n",
    "        num_to_sort = arr[i]\n",
    "        adj_list[num_to_sort] -= 1\n",
    "        sort_idx = adj_list[num_to_sort]\n",
    "        sorted_list[sort_idx] = num_to_sort\n",
    "        \n",
    "    return sorted_list\n",
    "\n",
    "print(counting_sort(w))"
   ]
  },
  {
   "cell_type": "code",
   "execution_count": null,
   "id": "ce03b5e0-bfc8-482c-a043-10d924c56107",
   "metadata": {},
   "outputs": [],
   "source": [
    "# 입력 값이 123456처럼 붙여서 입력될 때 리스트로 만들어줌\n",
    "card = list(map(int, input()))\n",
    "\n",
    "count = [0] * 12\n",
    "for number in card:\n",
    "    count[number] += 1\n",
    "\n",
    "tri = run = 0\n",
    "\n",
    "number = 0\n",
    "\n",
    "while True :\n",
    "    if count[number] >= 3:\n",
    "        count[number] -= 3\n",
    "        tri += 1\n",
    "        continue\n",
    "    if count[number] >= 1 and count[number + 1] >= 1 and count[number + 2] >= 1:\n",
    "        count[number] -= 1\n",
    "        count[number + 1] -= 1\n",
    "        count[number + 2] -= 1\n",
    "        run += 1\n",
    "        continue\n",
    "\n",
    "    number += 1\n",
    "    if number == 10:\n",
    "        break\n",
    "\n",
    "if run + tri == 2:\n",
    "    print('BabyGin')\n",
    "else:\n",
    "    print('Lose')"
   ]
  },
  {
   "cell_type": "code",
   "execution_count": null,
   "id": "4d31f688-3b81-4b1c-9799-58da89bbea14",
   "metadata": {},
   "outputs": [],
   "source": [
    "# 이진 탐색 \n",
    "\n",
    "def Binary_search(arr, key):\n",
    "    N = len(arr)\n",
    "    end_idx = N - 1\n",
    "    start_idx = 0\n",
    "    \n",
    "    while start_idx <= end_idx:\n",
    "        search_idx = (start_idx + end_idx) // 2\n",
    "        if key == arr[search_idx]:\n",
    "            return search_idx\n",
    "        elif key < arr[search_idx]:\n",
    "            end_idx = search_idx - 1\n",
    "        else:\n",
    "            start_idx = search_idx + 1\n",
    "    return False"
   ]
  },
  {
   "cell_type": "code",
   "execution_count": null,
   "id": "1a869ec5-4f48-46eb-933d-7e602ff0f367",
   "metadata": {},
   "outputs": [],
   "source": [
    "# 이진 탐색 - 재귀\n",
    "\n",
    "def Binary_recur(arr, start, end, key):\n",
    "    if low > high:\n",
    "        False\n",
    "    else:\n",
    "        search_idx = (start_idx + end_idx) // 2\n",
    "        if key == arr[search_idx]:\n",
    "            return search_idx\n",
    "        elif key < arr[search_idx]:\n",
    "            return Binary_recur(arr, start, search_idx - 1, key)\n",
    "        else key > arr[search_idx]:\n",
    "            return Binary_recur(arr, search_idx + 1, end, key)"
   ]
  },
  {
   "cell_type": "code",
   "execution_count": 26,
   "id": "4c600cff-62db-4da5-be97-ae458380e444",
   "metadata": {},
   "outputs": [
    {
     "name": "stdout",
     "output_type": "stream",
     "text": [
      "[0, 1, 2, 2, 2, 2, 3, 3, 4, 4, 4, 5, 5, 5, 6, 7, 7, 9, 14, 23, 35, 67, 71]\n"
     ]
    }
   ],
   "source": [
    "# 선택 정렬\n",
    "\n",
    "def selection_sort(arr):\n",
    "    N = len(arr)\n",
    "    for i in range(N - 1):\n",
    "        min_idx = i\n",
    "        for j in range(i + 1, N):\n",
    "            if arr[j] < arr[min_idx]:\n",
    "                min_idx = j\n",
    "        arr[i], arr[min_idx] = arr[min_idx], arr[i]\n",
    "    return arr\n",
    "\n",
    "print(selection_sort(w))"
   ]
  },
  {
   "cell_type": "code",
   "execution_count": 35,
   "id": "151d3fae-d861-4bfe-a52c-518bcb4b7009",
   "metadata": {},
   "outputs": [
    {
     "data": {
      "text/plain": [
       "{'1': 1, '2': 2, '3': 3, '5': 2}"
      ]
     },
     "execution_count": 35,
     "metadata": {},
     "output_type": "execute_result"
    }
   ],
   "source": [
    "# temp = {'1':1, '2':2, '3':3}\n",
    "\n",
    "\n",
    "try:\n",
    "    temping = temp['5']\n",
    "except KeyError:\n",
    "    temp['5'] = 1\n",
    "else:\n",
    "    temp['5'] += 1\n",
    "\n",
    "temp"
   ]
  }
 ],
 "metadata": {
  "kernelspec": {
   "display_name": "Python 3 (ipykernel)",
   "language": "python",
   "name": "python3"
  },
  "language_info": {
   "codemirror_mode": {
    "name": "ipython",
    "version": 3
   },
   "file_extension": ".py",
   "mimetype": "text/x-python",
   "name": "python",
   "nbconvert_exporter": "python",
   "pygments_lexer": "ipython3",
   "version": "3.9.12"
  }
 },
 "nbformat": 4,
 "nbformat_minor": 5
}

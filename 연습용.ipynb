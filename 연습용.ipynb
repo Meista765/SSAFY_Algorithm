{
 "cells": [
  {
   "cell_type": "code",
   "execution_count": 1,
   "id": "7e71481a",
   "metadata": {},
   "outputs": [
    {
     "name": "stdout",
     "output_type": "stream",
     "text": [
      "2\n"
     ]
    }
   ],
   "source": [
    "###### 기본 아이디어 ######\n",
    "t = 'TTTTATTATA'\n",
    "p = 'TTA'\n",
    "\n",
    "N = len(t)\n",
    "M = len(p)\n",
    "\n",
    "cnt = 0\n",
    "\n",
    "for i in range(N - M + 1):\n",
    "    for j in range(M):\n",
    "        if t[i + j] != p[j]:\n",
    "            break\n",
    "    else:\n",
    "        cnt += 1\n",
    "print(cnt)"
   ]
  },
  {
   "cell_type": "code",
   "execution_count": 2,
   "id": "7297d86f",
   "metadata": {},
   "outputs": [
    {
     "name": "stdout",
     "output_type": "stream",
     "text": [
      "19 CATTCCCTGCGCCGC\n",
      "65 CATTCCCTGCGCCGC\n"
     ]
    }
   ],
   "source": [
    "# 염기서열 (ACTG 네개의 물질)\n",
    "p = \"CATTCCCTGCGCCGC\"                                                                       # pattern\n",
    "t = \"ATTTGTGCATGTTTGAGCTCATTCCCTGCGCCGCTTTACGTACGAGAAACTGAACGTACCTACGACATTCCCTGCGCCGCCACCCGCTTTTTGAA\"      # text\n",
    "\n",
    "n, m = len(t), len(p)\n",
    "\n",
    "# 교재에 포함된 패턴 매칭, 비교시 텍스트 인덱스 i가 증가함\n",
    "i = j = 0\n",
    "while i < n:\n",
    "    if p[j] != t[i]:\n",
    "        i = i - j\n",
    "        j = -1\n",
    "\n",
    "    i, j = i + 1, j + 1\n",
    "    if j == m:\n",
    "        print(i - m, t[i - m: i])\n",
    "        j = 0"
   ]
  },
  {
   "cell_type": "code",
   "execution_count": 3,
   "id": "108aa3a4",
   "metadata": {},
   "outputs": [
    {
     "name": "stdout",
     "output_type": "stream",
     "text": [
      "XYPVSY\n"
     ]
    }
   ],
   "source": [
    "p = 'XYPV'\n",
    "t = 'EOGGXYPVSY'\n",
    "\n",
    "n = len(t)\n",
    "m = len(p)\n",
    "s = 0\n",
    "while s <= n - m:\n",
    "    for s in range(0, n - m + 1):\n",
    "        found = True\n",
    "        for i in range(m):\n",
    "            # p[i] t[s + i]\n",
    "            if p[i] != t[s + i]:\n",
    "                found = False\n",
    "                break\n",
    "        if found:\n",
    "            print(t[s:])\n",
    "            s += m - 1\n",
    "    s += 1"
   ]
  },
  {
   "cell_type": "code",
   "execution_count": 4,
   "id": "6f175b35",
   "metadata": {},
   "outputs": [
    {
     "name": "stdout",
     "output_type": "stream",
     "text": [
      "['q', 'w', 'q', 'e', 'q']\n"
     ]
    }
   ],
   "source": [
    "w = list(input())\n",
    "print(w)"
   ]
  },
  {
   "cell_type": "code",
   "execution_count": null,
   "id": "c7bdb26d",
   "metadata": {},
   "outputs": [],
   "source": []
  }
 ],
 "metadata": {
  "kernelspec": {
   "display_name": "Python 3 (ipykernel)",
   "language": "python",
   "name": "python3"
  },
  "language_info": {
   "codemirror_mode": {
    "name": "ipython",
    "version": 3
   },
   "file_extension": ".py",
   "mimetype": "text/x-python",
   "name": "python",
   "nbconvert_exporter": "python",
   "pygments_lexer": "ipython3",
   "version": "3.9.13"
  }
 },
 "nbformat": 4,
 "nbformat_minor": 5
}

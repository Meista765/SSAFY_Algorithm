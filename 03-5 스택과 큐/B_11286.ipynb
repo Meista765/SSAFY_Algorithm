{
 "cells": [
  {
   "cell_type": "markdown",
   "metadata": {},
   "source": [
    "### Priority Queue\n",
    "\n",
    "* `module` 및 `method` import\n",
    "* 우선순위 정렬 방법 정의 "
   ]
  },
  {
   "cell_type": "code",
   "execution_count": 6,
   "metadata": {},
   "outputs": [
    {
     "name": "stdout",
     "output_type": "stream",
     "text": [
      "0\n",
      "-1\n",
      "1\n",
      "-2\n",
      "2\n",
      "-3\n",
      "3\n"
     ]
    }
   ],
   "source": [
    "from queue import PriorityQueue\n",
    "\n",
    "myQueue = PriorityQueue()\n",
    "\n",
    "data = [3, -2, 1, -1, -3, 2, 0]\n",
    "\n",
    "for item in data:\n",
    "    priority = abs(item)\n",
    "    myQueue.put((priority, item))\n",
    "\n",
    "while myQueue.empty() == False:\n",
    "    print(myQueue.get()[1])"
   ]
  },
  {
   "cell_type": "markdown",
   "metadata": {},
   "source": [
    "* `put` 메서드의 `priority` 속성\n",
    "  1. `abs(item)` : 절대값을 기준으로 1차 정렬\n",
    "  2. `item` : 크기가 작은 데이터를 우선 삽입. 절대값이 같다면 음수가 먼저 들어감.\n",
    "\n",
    "* `myQueue.get()[1]` : `(priority, item)`의 형태로 값을 삽입하였으므로, 데이터는 이중 튜플로 되어 있다. 따라서 item만 받기 위해서 별도의 indexing이 필요하다."
   ]
  },
  {
   "cell_type": "markdown",
   "metadata": {},
   "source": []
  }
 ],
 "metadata": {
  "kernelspec": {
   "display_name": "Python 3",
   "language": "python",
   "name": "python3"
  },
  "language_info": {
   "codemirror_mode": {
    "name": "ipython",
    "version": 3
   },
   "file_extension": ".py",
   "mimetype": "text/x-python",
   "name": "python",
   "nbconvert_exporter": "python",
   "pygments_lexer": "ipython3",
   "version": "3.12.0"
  }
 },
 "nbformat": 4,
 "nbformat_minor": 2
}

{
 "cells": [
  {
   "cell_type": "markdown",
   "id": "bf0cf6e3",
   "metadata": {},
   "source": [
    "# 연습"
   ]
  },
  {
   "cell_type": "code",
   "execution_count": 9,
   "id": "f529023e",
   "metadata": {},
   "outputs": [
    {
     "name": "stdout",
     "output_type": "stream",
     "text": [
      "True\n"
     ]
    }
   ],
   "source": [
    "string = 'algorithm'\n",
    "\n",
    "string_2 = 'al'\n",
    "\n",
    "if string_2 == string[0:2]:\n",
    "    print(True)"
   ]
  },
  {
   "cell_type": "code",
   "execution_count": 12,
   "id": "a5916033",
   "metadata": {},
   "outputs": [
    {
     "name": "stdout",
     "output_type": "stream",
     "text": [
      "5748\n"
     ]
    }
   ],
   "source": [
    "input_string = input()\n",
    "for i in range(len(input_string)):\n",
    "    if input_string[i] == ' ':\n",
    "        word_num = int(input_string[i + 1:])\n",
    "        break\n",
    "\n",
    "print(word_num)\n",
    "\n"
   ]
  },
  {
   "cell_type": "code",
   "execution_count": 13,
   "id": "481830ea",
   "metadata": {},
   "outputs": [
    {
     "name": "stdout",
     "output_type": "stream",
     "text": [
      "weq weq weq weq weq \n"
     ]
    }
   ],
   "source": [
    "string = 'weq'\n",
    "\n",
    "w = (string + ' ') * 5\n",
    "print(w[:])"
   ]
  },
  {
   "cell_type": "markdown",
   "id": "a3d19785-6aab-41c9-ba87-63df01344752",
   "metadata": {},
   "source": [
    "---\n",
    "\n",
    "# 1일차 교재 ~ 구간합"
   ]
  },
  {
   "cell_type": "markdown",
   "id": "f786d650-edff-401a-a39d-8c73d56e28c7",
   "metadata": {},
   "source": [
    "## p. 41 구간 합\n",
    "\n",
    "\n",
    "합 배열 S 정의\n",
    "- $S_i = A_0 + A_1 + A_2 + \\dots + A_{i-1} + A_i$\n",
    "\n",
    "합 배열 공식\n",
    "- $S_i = S_{i-1} + A_i$\n",
    "\n",
    "구간 합 예시\n",
    "- $S_5 - S_1 = A_2 + A_3 + A_4 + A_5$\n"
   ]
  },
  {
   "cell_type": "markdown",
   "id": "54333046-d501-4650-b5f7-2c9497fa14c4",
   "metadata": {},
   "source": [
    "### 합 행렬 만들기\n",
    "\n",
    "원본 행렬의 [0,0] 부터 합을 구하고자 하는 좌표 [x,y]를 사각형으로 보고, **해당 사각형의 합을 해당 좌표의 합**으로 함\n",
    "\n",
    "합 행렬 $D$, 원래 행렬 $A$에 대해,\n",
    "\n",
    "$$\n",
    "D[x,y] = D[x-1, y] + D[x, y-1] - D[x-1,y-1] + A[x,y]\n",
    "$$\n",
    "\n",
    "=> $D[x-1, y-1]$은 사각형의 중복 부분이기 때문에 빼줌\n",
    "\n",
    "\n",
    "### 사각형 합 구하기\n",
    "\n",
    "합 행렬 $D$ 사용!\n",
    "\n",
    "(X1, Y1), (X2, Y2) 로 만들어진 사각형에 대해 그 외곽 사각형 두 개를 빼준 뒤, 해당 두 사각형이 공유하는 부분(무조건 (X1 - 1, Y1 -1))을 더해줌\n",
    "\n",
    "공식\n",
    "$$\n",
    "D[X_2, Y_2] - D[X_1-1, Y_2] - D[X_2, Y_1-1] + D[X_1-1, Y_1-1]\n",
    "$$"
   ]
  },
  {
   "cell_type": "markdown",
   "id": "f1bcaed2",
   "metadata": {},
   "source": [
    "## p. 50 나머지 합 구하기"
   ]
  },
  {
   "cell_type": "markdown",
   "id": "06bcc871",
   "metadata": {},
   "source": [
    "$A_1, A_2, \\dots, A_N$ 이 주어졌을 때, 연속된 부분의 합이 M으로 나누어지는 구간의 개수\n",
    "\n",
    "=> $A_i + \\dots + A_j, (i < j)$의 합이 M으로 나누어 떨어지는 $(i, j)$의 개수\n",
    "\n",
    "\n",
    "- 합 배열의 $S_i$ % M 과  $S_j$ % M 의 값이 같으면 $(S_i - S_j)$  % M 은 0\n",
    "- 합 배열 $S_i$ 를 M으로 나눈 나머지로 나눈 배열의 element가 0 이라면, $A_1 + \\dots + A_i$ 는 무조건 M의 배수\n",
    "- $xC_2 = \\frac{x(x-1)}{2}$\n"
   ]
  },
  {
   "cell_type": "markdown",
   "id": "600d35f5-dd2c-4b55-9a25-45bc83709f46",
   "metadata": {},
   "source": [
    "---"
   ]
  },
  {
   "cell_type": "markdown",
   "id": "bb8553a8-4969-45dd-ba2f-f06eb45c4710",
   "metadata": {},
   "source": [
    "# 투 포인터"
   ]
  },
  {
   "cell_type": "markdown",
   "id": "799b5b27-f168-4578-942f-3e0560270d55",
   "metadata": {
    "tags": []
   },
   "source": [
    "## p. 54 연속된 자연수의 합 구하기"
   ]
  },
  {
   "cell_type": "markdown",
   "id": "0be2d3bd-cb8c-4878-9629-4e208cc9ff9b",
   "metadata": {},
   "source": [
    "자연수 N이 주어졌을 때, 연속된 자연수로 N을 만들 수 있는 경우의 수 구하기\n",
    "\n",
    "ex) 15 -> (1,2,3,4,5) (4,5,6) (7,8) (15) => 4가지\n",
    "\n",
    "\n",
    "투 포인터\n",
    "\n",
    "자연수 1 ~ N 까지의 리스트가 존재한다고 가정\n",
    "\n",
    "start_idx, end_idx 둘 다 0에서 시작\n",
    "\n",
    "sum_value = sum(list[start_idx:end_idx])\n",
    "\n",
    "- sum_value > N : start_idx += 1, sum_value -= start_idx\n",
    "- sum_value < N : end_idx += 1, sum_value += end_idx\n",
    "- sum_value == N : end_idx += 1, count += 1, sum += end_idx"
   ]
  },
  {
   "cell_type": "markdown",
   "id": "9f356f5d",
   "metadata": {},
   "source": [
    "---"
   ]
  },
  {
   "cell_type": "markdown",
   "id": "54d0b31d",
   "metadata": {},
   "source": [
    "# 슬라이딩 윈도우"
   ]
  },
  {
   "cell_type": "markdown",
   "id": "3fa7f534",
   "metadata": {},
   "source": [
    "투 포인터 알고리즘과 유사\n",
    "\n",
    "2개의 포인터로 범위를 지정한 다음, 범위를 유지한 채로 이동하며 문제를 해결\n",
    "\n",
    "백준 11003 번 아이디어\n",
    "\n",
    "슬라이딩 윈도우를 덱(deque)로 구현하여 정렬 효과를 볼 수 있다\n",
    "\n",
    "덱 - 양 끝에서 데이터를 삽입하거나 삭제할 수 있는 자료구조\n",
    "\n",
    "```python\n",
    "appendleft(), popleft()\n",
    "append(), pop() \n",
    "```\n",
    "\n",
    "deque 함수를 사용한다\n",
    "\n",
    "```python\n",
    "from collections import deque\n",
    "deq = deque(['a', 'b', 'c'])\n",
    "deq.append('d')\n",
    "print(deq)    # deque(['a','b','c','d'])\n",
    "```"
   ]
  },
  {
   "cell_type": "markdown",
   "id": "0193deef",
   "metadata": {},
   "source": [
    "---"
   ]
  },
  {
   "cell_type": "markdown",
   "id": "ddf08fd2",
   "metadata": {},
   "source": [
    "스택, 큐\n",
    "\n",
    "스택 - 쌓이고, 위에서부터 pop\n",
    "\n",
    "큐 - 쌓이고, 앞에서 pop - deque 이용"
   ]
  },
  {
   "cell_type": "markdown",
   "id": "56b19d2f",
   "metadata": {},
   "source": [
    "---"
   ]
  },
  {
   "cell_type": "markdown",
   "id": "44b375c2",
   "metadata": {},
   "source": [
    "# 집합"
   ]
  },
  {
   "cell_type": "markdown",
   "id": "243ab083",
   "metadata": {},
   "source": [
    "원소 확인"
   ]
  },
  {
   "cell_type": "code",
   "execution_count": 5,
   "id": "e18ec8d7",
   "metadata": {},
   "outputs": [
    {
     "name": "stdout",
     "output_type": "stream",
     "text": [
      "8\n",
      "True\n"
     ]
    }
   ],
   "source": [
    "A = 42 # A = {1,3,5}의 정수형 표현. 비트 마스크 101010\n",
    "\n",
    "# 3이 있는지 확인해보자!\n",
    "\n",
    "print(A & (1 << 3)) \n",
    "print((A & (1 << 3)) == (2 ** 3)) # 있구나!"
   ]
  },
  {
   "cell_type": "markdown",
   "id": "61072911",
   "metadata": {},
   "source": [
    "원소 삭제"
   ]
  },
  {
   "cell_type": "code",
   "execution_count": 7,
   "id": "77c81e8a",
   "metadata": {},
   "outputs": [
    {
     "name": "stdout",
     "output_type": "stream",
     "text": [
      "34\n",
      "34\n"
     ]
    }
   ],
   "source": [
    "A = 42 # {1,3,5}\n",
    "\n",
    "# 집합 A에서 3을 지워보자!\n",
    "\n",
    "print(A & ~(1 << 3)) # 34(42 - 8)\n",
    "A = A & ~(1 << 3)\n",
    "print(A) # 34 // 잘 빠졌구나!"
   ]
  },
  {
   "cell_type": "markdown",
   "id": "40988af7",
   "metadata": {},
   "source": [
    "원소 토클 - 존재하면 삭제, 존재하지 않는다면 추가"
   ]
  },
  {
   "cell_type": "code",
   "execution_count": 9,
   "id": "96166bc9",
   "metadata": {},
   "outputs": [
    {
     "name": "stdout",
     "output_type": "stream",
     "text": [
      "34\n",
      "46\n"
     ]
    }
   ],
   "source": [
    "# 삭제\n",
    "\n",
    "A = 42 # {1,3,5}\n",
    "\n",
    "A = A ^ (1 << 3) # 34 = 42 - (2 ** 3)\n",
    "print(A)\n",
    "\n",
    "# 추가\n",
    "\n",
    "A = 42 # {1,3,5}\n",
    "\n",
    "A = A ^ (1 << 2) # 46 = 42 + (2 ** 2)\n",
    "print(A)"
   ]
  }
 ],
 "metadata": {
  "kernelspec": {
   "display_name": "Python 3 (ipykernel)",
   "language": "python",
   "name": "python3"
  },
  "language_info": {
   "codemirror_mode": {
    "name": "ipython",
    "version": 3
   },
   "file_extension": ".py",
   "mimetype": "text/x-python",
   "name": "python",
   "nbconvert_exporter": "python",
   "pygments_lexer": "ipython3",
   "version": "3.9.13"
  }
 },
 "nbformat": 4,
 "nbformat_minor": 5
}

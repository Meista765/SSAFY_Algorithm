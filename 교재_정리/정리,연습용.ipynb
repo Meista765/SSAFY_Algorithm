{
 "cells": [
  {
   "cell_type": "markdown",
   "id": "bf0cf6e3",
   "metadata": {},
   "source": [
    "# 연습"
   ]
  },
  {
   "cell_type": "code",
   "execution_count": null,
   "id": "14496e49",
   "metadata": {},
   "outputs": [],
   "source": []
  },
  {
   "cell_type": "markdown",
   "id": "a3d19785-6aab-41c9-ba87-63df01344752",
   "metadata": {},
   "source": [
    "---\n",
    "\n",
    "# 1일차 교재 ~ 구간합"
   ]
  },
  {
   "cell_type": "markdown",
   "id": "f786d650-edff-401a-a39d-8c73d56e28c7",
   "metadata": {},
   "source": [
    "## p. 41 구간 합\n",
    "\n",
    "\n",
    "합 배열 S 정의\n",
    "- $S_i = A_0 + A_1 + A_2 + \\dots + A_{i-1} + A_i$\n",
    "\n",
    "합 배열 공식\n",
    "- $S_i = S_{i-1} + A_i$\n",
    "\n",
    "구간 합 예시\n",
    "- $S_5 - S_1 = A_2 + A_3 + A_4 + A_5$\n"
   ]
  },
  {
   "cell_type": "markdown",
   "id": "54333046-d501-4650-b5f7-2c9497fa14c4",
   "metadata": {},
   "source": [
    "### 합 행렬 만들기\n",
    "\n",
    "원본 행렬의 [0,0] 부터 합을 구하고자 하는 좌표 [x,y]를 사각형으로 보고, **해당 사각형의 합을 해당 좌표의 합**으로 함\n",
    "\n",
    "합 행렬 $D$, 원래 행렬 $A$에 대해,\n",
    "\n",
    "$$\n",
    "D[x,y] = D[x-1, y] + D[x, y-1] - D[x-1,y-1] + A[x,y]\n",
    "$$\n",
    "\n",
    "=> $D[x-1, y-1]$은 사각형의 중복 부분이기 때문에 빼줌\n",
    "\n",
    "\n",
    "### 사각형 합 구하기\n",
    "\n",
    "합 행렬 $D$ 사용!\n",
    "\n",
    "(X1, Y1), (X2, Y2) 로 만들어진 사각형에 대해 그 외곽 사각형 두 개를 빼준 뒤, 해당 두 사각형이 공유하는 부분(무조건 (X1 - 1, Y1 -1))을 더해줌\n",
    "\n",
    "공식\n",
    "$$\n",
    "D[X_2, Y_2] - D[X_1-1, Y_2] - D[X_2, Y_1-1] + D[X_1-1, Y_1-1]\n",
    "$$"
   ]
  },
  {
   "cell_type": "markdown",
   "id": "f1bcaed2",
   "metadata": {},
   "source": [
    "## p. 50 나머지 합 구하기"
   ]
  },
  {
   "cell_type": "markdown",
   "id": "06bcc871",
   "metadata": {},
   "source": [
    "$A_1, A_2, \\dots, A_N$ 이 주어졌을 때, 연속된 부분의 합이 M으로 나누어지는 구간의 개수\n",
    "\n",
    "=> $A_i + \\dots + A_j, (i < j)$의 합이 M으로 나누어 떨어지는 $(i, j)$의 개수\n",
    "\n",
    "\n",
    "- 합 배열의 $S_i$ % M 과  $S_j$ % M 의 값이 같으면 $(S_i - S_j)$  % M 은 0\n",
    "- 합 배열 $S_i$ 를 M으로 나눈 나머지로 나눈 배열의 element가 0 이라면, $A_1 + \\dots + A_i$ 는 무조건 M의 배수\n",
    "- $xC_2 = \\frac{x(x-1)}{2}$\n"
   ]
  }
 ],
 "metadata": {
  "kernelspec": {
   "display_name": "Python 3 (ipykernel)",
   "language": "python",
   "name": "python3"
  },
  "language_info": {
   "codemirror_mode": {
    "name": "ipython",
    "version": 3
   },
   "file_extension": ".py",
   "mimetype": "text/x-python",
   "name": "python",
   "nbconvert_exporter": "python",
   "pygments_lexer": "ipython3",
   "version": "3.9.13"
  }
 },
 "nbformat": 4,
 "nbformat_minor": 5
}

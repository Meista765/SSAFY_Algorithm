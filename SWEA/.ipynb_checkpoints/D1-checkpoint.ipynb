{
 "cells": [
  {
   "cell_type": "code",
   "execution_count": 12,
   "metadata": {},
   "outputs": [
    {
     "name": "stdout",
     "output_type": "stream",
     "text": [
      "7 6 5 4 3 2 1 0\n"
     ]
    }
   ],
   "source": [
    "# 1545 거꾸로 출력해 보아요\n",
    "\n",
    "N = int(input())\n",
    "\n",
    "\n",
    "num_list = list()\n",
    "\n",
    "for i in range(N + 1):\n",
    "    num_list.append(i)\n",
    "\n",
    "print(' '.join(map(str, num_list[::-1])))"
   ]
  },
  {
   "cell_type": "code",
   "execution_count": 2,
   "metadata": {},
   "outputs": [
    {
     "name": "stdout",
     "output_type": "stream",
     "text": [
      "1 2 3 6 7 13 14 21 26 39 42 78 91 182 273 546\n"
     ]
    }
   ],
   "source": [
    "# 1933 간단한 N의 약수\n",
    "\n",
    "N = int(input())\n",
    "\n",
    "num_list = list()\n",
    "for i in range(1, int(N/2) + 1):\n",
    "    if N % i == 0:\n",
    "        num_list.append(i)\n",
    "\n",
    "num_list.append(N)\n",
    "print(' '.join(map(str, num_list)))"
   ]
  },
  {
   "cell_type": "code",
   "execution_count": null,
   "metadata": {},
   "outputs": [],
   "source": [
    "# 1936 1대1 가위바위보\n",
    "\n",
    "A, B = map(int, input().split())\n",
    " \n",
    "ab_list = list([A, B])\n",
    " \n",
    "ans_index = int()\n",
    "ans = str()\n",
    " \n",
    "if 3 in ab_list:\n",
    "    if 1 in ab_list:\n",
    "        ans_index = ab_list.index(1)\n",
    "    else:\n",
    "        ans_index = ab_list.index(3)\n",
    "else:\n",
    "    ans_index = ab_list.index(max(ab_list))\n",
    " \n",
    "if ans_index == 1:\n",
    "    ans = 'B'\n",
    "else:\n",
    "    ans = 'A'\n",
    " \n",
    "print(ans)"
   ]
  },
  {
   "cell_type": "code",
   "execution_count": null,
   "metadata": {},
   "outputs": [],
   "source": [
    "# 1938 아주 간단한 계산기\n",
    "\n",
    "a, b = map(int, input().split())\n",
    "\n",
    "print(a + b)\n",
    "print(a - b)\n",
    "print(a * b)\n",
    "print(int(a/b))"
   ]
  },
  {
   "cell_type": "code",
   "execution_count": 24,
   "metadata": {},
   "outputs": [
    {
     "name": "stdout",
     "output_type": "stream",
     "text": [
      "1 2 4 8 16 32 64 128 256\n"
     ]
    }
   ],
   "source": [
    "# 2019 더블더블\n",
    "\n",
    "N = int(input())\n",
    "\n",
    "ans_list = list()\n",
    "\n",
    "for i in range(N + 1):\n",
    "    ans_list.append(2 ** i)\n",
    "\n",
    "print(' '.join(map(str, ans_list)))"
   ]
  },
  {
   "cell_type": "code",
   "execution_count": 25,
   "metadata": {},
   "outputs": [
    {
     "name": "stdout",
     "output_type": "stream",
     "text": [
      "55\n"
     ]
    }
   ],
   "source": [
    "# 2025 N줄 덧셈\n",
    "\n",
    "N = int(input())\n",
    "\n",
    "ans = 0\n",
    "\n",
    "for i in range(1, N + 1):\n",
    "    ans += i\n",
    "    \n",
    "print(ans)"
   ]
  },
  {
   "cell_type": "code",
   "execution_count": null,
   "metadata": {},
   "outputs": [],
   "source": [
    "# 2027 대각선 출력하기\n",
    "\n",
    "print('#++++')\n",
    "print('+#+++')\n",
    "print('++#++')\n",
    "print('+++#+')\n",
    "print('++++#')"
   ]
  },
  {
   "cell_type": "code",
   "execution_count": 44,
   "metadata": {},
   "outputs": [
    {
     "name": "stdout",
     "output_type": "stream",
     "text": [
      "#1 4 1\n",
      "#2 2 3\n",
      "#3 24 9\n"
     ]
    }
   ],
   "source": [
    "# 2029 몫과 나머지 출력하기\n",
    "\n",
    "T = int(input())\n",
    "\n",
    "for test_case in range(1, T + 1):\n",
    "    a, b = map(int, input().split())\n",
    "\n",
    "    ans_1 = a // b\n",
    "    ans_2 = a % b\n",
    "\n",
    "    print('#%d' %test_case, ans_1, ans_2)\n",
    "\n",
    "\n",
    "\n"
   ]
  },
  {
   "cell_type": "code",
   "execution_count": 45,
   "metadata": {},
   "outputs": [
    {
     "name": "stdout",
     "output_type": "stream",
     "text": [
      "24\n"
     ]
    }
   ],
   "source": [
    "# 2043 서랍의 비밀번호\n",
    "\n",
    "P, K = map(int, input().split())\n",
    "\n",
    "print(P - K + 1)"
   ]
  },
  {
   "cell_type": "code",
   "execution_count": 47,
   "metadata": {},
   "outputs": [
    {
     "name": "stdout",
     "output_type": "stream",
     "text": [
      "###\n"
     ]
    }
   ],
   "source": [
    "# 2046 스탬프 찍기\n",
    "\n",
    "N = int(input())\n",
    "ans = list()\n",
    "for i in range(N):\n",
    "    ans.append('#')\n",
    "print(''.join(map(str, ans)))"
   ]
  },
  {
   "cell_type": "code",
   "execution_count": 49,
   "metadata": {},
   "outputs": [
    {
     "name": "stdout",
     "output_type": "stream",
     "text": [
      "QWIEY_WQJER_QWE\n"
     ]
    }
   ],
   "source": [
    "# 2047 신문 헤드라인\n",
    "\n",
    "article = input()\n",
    "print(article.upper())"
   ]
  },
  {
   "cell_type": "code",
   "execution_count": 58,
   "metadata": {},
   "outputs": [
    {
     "name": "stdout",
     "output_type": "stream",
     "text": [
      "1 2 3 4 5 6 7 8 9 10 11 12 13 14 15 16 17 18 19 20 21 22 23 24 25 26\n"
     ]
    }
   ],
   "source": [
    "# 2050 알파벳을 숫자로 변환\n",
    "\n",
    "alphabet = []\n",
    "for letter in range(ord('A'), ord('Z') + 1):\n",
    "    alphabet.append(chr(letter))\n",
    "\n",
    "input_string = input()\n",
    "result = list()\n",
    "\n",
    "for i in range(len(input_string)):\n",
    "    result.append(alphabet.index(input_string[i]) + 1)\n",
    "\n",
    "print(' '.join(map(str, result)))"
   ]
  },
  {
   "cell_type": "code",
   "execution_count": 1,
   "metadata": {
    "tags": []
   },
   "outputs": [
    {
     "name": "stdin",
     "output_type": "stream",
     "text": [
      " 5\n",
      " 22220228\n"
     ]
    },
    {
     "name": "stdout",
     "output_type": "stream",
     "text": [
      "#1 2222/02/28\n"
     ]
    },
    {
     "name": "stdin",
     "output_type": "stream",
     "text": [
      " 20150002\n"
     ]
    },
    {
     "name": "stdout",
     "output_type": "stream",
     "text": [
      "#2 -1\n"
     ]
    },
    {
     "name": "stdin",
     "output_type": "stream",
     "text": [
      " 01010101\n"
     ]
    },
    {
     "name": "stdout",
     "output_type": "stream",
     "text": [
      "#3 0101/01/01\n"
     ]
    },
    {
     "name": "stdin",
     "output_type": "stream",
     "text": [
      " 20140230\n"
     ]
    },
    {
     "name": "stdout",
     "output_type": "stream",
     "text": [
      "#4 -1\n"
     ]
    },
    {
     "name": "stdin",
     "output_type": "stream",
     "text": [
      " 11111111\n"
     ]
    },
    {
     "name": "stdout",
     "output_type": "stream",
     "text": [
      "#5 1111/11/11\n"
     ]
    }
   ],
   "source": [
    "# 2056 연월일 달력\n",
    "\n",
    "list_31 = [1,3,5,7,8,10,12]\n",
    "list_30 = [4,6,9,11]\n",
    "\n",
    "T = int(input())\n",
    "\n",
    "for test_case in range(1, T + 1):\n",
    "    date = input()\n",
    "    year = date[0:4]\n",
    "    month = int(date[4:6])\n",
    "    day = int(date[6:8])\n",
    "\n",
    "    last_day = int()\n",
    "\n",
    "    if month in list_31:\n",
    "        last_day = 31\n",
    "    elif month in list_30:\n",
    "        last_day = 30\n",
    "    elif month == 2:\n",
    "        last_day = 28\n",
    "\n",
    "    if day > last_day:\n",
    "        print('#%d' %test_case, -1)\n",
    "    else:\n",
    "        if month < 10:\n",
    "            month_str = '0' + str(month)\n",
    "        else:\n",
    "            month_str = str(month)\n",
    "        if day < 10:\n",
    "            day_str = '0' + str(day)\n",
    "        else:\n",
    "            day_str = str(day)\n",
    "        result = year + '/' + month_str + '/' + day_str\n",
    "        print('#%d' %test_case, result)"
   ]
  },
  {
   "cell_type": "code",
   "execution_count": null,
   "metadata": {},
   "outputs": [],
   "source": [
    "5\n",
    "22220228\n",
    "20150002\n",
    "01010101\n",
    "20140230\n",
    "11111111"
   ]
  },
  {
   "cell_type": "code",
   "execution_count": null,
   "metadata": {},
   "outputs": [],
   "source": [
    "# 2058 자릿수 더하기\n",
    "\n",
    "N = int(input())\n",
    "N_str = str(N)\n",
    "ans = 0\n",
    "for i in range(len(N_str)):\n",
    "    ans += int(N_str[i])\n",
    "print(ans)"
   ]
  },
  {
   "cell_type": "code",
   "execution_count": null,
   "metadata": {},
   "outputs": [],
   "source": [
    "# 2063 중간값 찾기\n",
    "\n",
    "N = int(input())\n",
    "num_list = list(map(int, input().split()))\n",
    "num_list = sorted(num_list)\n",
    "med_idx = int(N/2)\n",
    "print(num_list[med_idx])"
   ]
  },
  {
   "cell_type": "code",
   "execution_count": 90,
   "metadata": {},
   "outputs": [
    {
     "name": "stdout",
     "output_type": "stream",
     "text": [
      "#1 99\n",
      "#2 123\n",
      "#3 76\n"
     ]
    }
   ],
   "source": [
    "# 2068 최대수 구하기\n",
    "T = int(input())\n",
    "\n",
    "for test_case in range(1, T + 1):\n",
    "    num_list = list(map(int, input().split()))\n",
    "    print('#%d' %test_case, max(num_list))"
   ]
  },
  {
   "cell_type": "code",
   "execution_count": 91,
   "metadata": {},
   "outputs": [
    {
     "name": "stdout",
     "output_type": "stream",
     "text": [
      "#1 <\n",
      "#2 =\n",
      "#3 >\n"
     ]
    }
   ],
   "source": [
    "# 2070 큰 놈, 작은 놈, 같은 놈\n",
    "\n",
    "T = int(input())\n",
    "\n",
    "for test_case in range(1, T + 1):\n",
    "    a, b = map(int, input().split())\n",
    "    if a < b:\n",
    "        print('#%d' %test_case, '<')\n",
    "    elif a == b:\n",
    "        print('#%d' %test_case, '=')\n",
    "    elif a > b:\n",
    "        print('#%d' %test_case, '>')"
   ]
  },
  {
   "cell_type": "code",
   "execution_count": 93,
   "metadata": {},
   "outputs": [
    {
     "name": "stdout",
     "output_type": "stream",
     "text": [
      "#1 24\n",
      "#2 29\n",
      "#3 27\n"
     ]
    }
   ],
   "source": [
    "# 2071 평균값 구하기\n",
    "\n",
    "T = int(input())\n",
    "\n",
    "def mean(n_list):\n",
    "    total_sum = sum(n_list)\n",
    "    result = total_sum / len(n_list)\n",
    "    result = round(result, 0)\n",
    "    return int(result)\n",
    "\n",
    "for test_case in range(1, T + 1):\n",
    "    num_list = list(map(int, input().split()))\n",
    "    print('#%d' %test_case, mean(num_list))"
   ]
  },
  {
   "cell_type": "code",
   "execution_count": 98,
   "metadata": {},
   "outputs": [
    {
     "name": "stdout",
     "output_type": "stream",
     "text": [
      "#1 200\n",
      "#2 208\n",
      "#3 121\n"
     ]
    }
   ],
   "source": [
    "# 2072 홀수만 더하기\n",
    "\n",
    "T = int(input())\n",
    "\n",
    "for test_case in range(1, T + 1):\n",
    "    num_list = list(map(int, input().split()))\n",
    "\n",
    "    res = 0\n",
    "    for i in range(len(num_list)):\n",
    "        if num_list[i] % 2 != 0:\n",
    "            res += num_list[i]\n",
    "        else: pass\n",
    "    \n",
    "    print('#%d' %test_case, res)\n"
   ]
  },
  {
   "cell_type": "code",
   "execution_count": null,
   "metadata": {},
   "outputs": [],
   "source": []
  }
 ],
 "metadata": {
  "kernelspec": {
   "display_name": "Python 3 (ipykernel)",
   "language": "python",
   "name": "python3"
  },
  "language_info": {
   "codemirror_mode": {
    "name": "ipython",
    "version": 3
   },
   "file_extension": ".py",
   "mimetype": "text/x-python",
   "name": "python",
   "nbconvert_exporter": "python",
   "pygments_lexer": "ipython3",
   "version": "3.9.12"
  }
 },
 "nbformat": 4,
 "nbformat_minor": 4
}

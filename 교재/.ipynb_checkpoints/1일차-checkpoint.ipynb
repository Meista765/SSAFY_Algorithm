{
 "cells": [
  {
   "cell_type": "markdown",
   "id": "a3d19785-6aab-41c9-ba87-63df01344752",
   "metadata": {},
   "source": [
    "# 1일차 교재 ~ 구간합"
   ]
  },
  {
   "cell_type": "markdown",
   "id": "ed1e23b1-5dda-44d8-a024-24c9f8372da2",
   "metadata": {},
   "source": [
    "## p. 35 001 숫자의 합 구하기"
   ]
  },
  {
   "cell_type": "code",
   "execution_count": 4,
   "id": "b7b4821e-bb5c-4f9c-bf04-bff392071a8a",
   "metadata": {},
   "outputs": [
    {
     "name": "stdout",
     "output_type": "stream",
     "text": [
      " 5\n",
      " 54321\n",
      "15\n"
     ]
    }
   ],
   "source": [
    "N = int(input())\n",
    "number_list = list(input())\n",
    "\n",
    "num_sum = int()\n",
    "for number in number_list:\n",
    "    num_sum += int(number)\n",
    "    \n",
    "print(num_sum)"
   ]
  },
  {
   "cell_type": "markdown",
   "id": "ffb2bd1a-95ff-4c01-9b3f-b3679ed369af",
   "metadata": {},
   "source": [
    "## p. 38 002 평균 구하기"
   ]
  },
  {
   "cell_type": "code",
   "execution_count": 7,
   "id": "c0fb939d-557e-4b25-9065-8326c05083f9",
   "metadata": {},
   "outputs": [
    {
     "name": "stdout",
     "output_type": "stream",
     "text": [
      " 3\n",
      " 10 20 30\n",
      "66.66666666666667\n"
     ]
    }
   ],
   "source": [
    "N = int(input())\n",
    "score_list = list(map(int, input().split()))\n",
    "\n",
    "max_score = max(score_list)\n",
    "adjusted_score = list(map(lambda x : x / max_score * 100, score_list))\n",
    "adjusted_mean = sum(adjusted_score) / len(adjusted_score)\n",
    "print(adjusted_mean)"
   ]
  },
  {
   "cell_type": "markdown",
   "id": "f786d650-edff-401a-a39d-8c73d56e28c7",
   "metadata": {},
   "source": [
    "## p. 41 구간 합\n",
    "\n",
    "\n",
    "합 배열 S 정의\n",
    "- $S_i = A_0 + A_1 + A_2 + \\dots + A_{i-1} + A_i$\n",
    "\n",
    "합 배열 공식\n",
    "- $S_i = S_{i-1} + A_i$\n",
    "\n",
    "구간 합 예시\n",
    "- $S_5 - S_1 = A_2 + A_3 + A_4 + A_5$\n"
   ]
  },
  {
   "cell_type": "markdown",
   "id": "06c3845f-6589-4ba9-8e90-2ac4d1052fac",
   "metadata": {},
   "source": [
    "## p. 43 003 구간 합 구하기1"
   ]
  },
  {
   "cell_type": "code",
   "execution_count": 10,
   "id": "ffd30b8c-19cf-417a-a858-b127a8b94fad",
   "metadata": {},
   "outputs": [
    {
     "name": "stdout",
     "output_type": "stream",
     "text": [
      "12\n",
      "9\n",
      "1\n"
     ]
    }
   ],
   "source": [
    "import sys\n",
    "\n",
    "input = sys.stdin.readline\n",
    "\n",
    "N, M = map(int, input().split())\n",
    "\n",
    "number_list = list(map(int, input().split()))\n",
    "S_list = [0] * N\n",
    "S_list[0] = number_list[0]\n",
    "for i in range(N):\n",
    "    S_list[i] = S_list[(i-1)] + number_list[i] # 구간 합 리스트\n",
    "\n",
    "for _ in range(M):\n",
    "    a, b = map(int, input().split())\n",
    "    if (a - 1) == 0:\n",
    "        print(S_list[(b - 1)])\n",
    "    else:\n",
    "        print(S_list[(b - 1)] - S_list[(a - 2)])"
   ]
  },
  {
   "cell_type": "markdown",
   "id": "f6d5a2ad-3266-4dbb-a576-99569b1912ec",
   "metadata": {},
   "source": [
    "## p. 45 004 구간 합 구하기2"
   ]
  },
  {
   "cell_type": "markdown",
   "id": "54333046-d501-4650-b5f7-2c9497fa14c4",
   "metadata": {},
   "source": [
    "### 합 행렬 만들기\n",
    "\n",
    "원본 행렬의 [0,0] 부터 합을 구하고자 하는 좌표 [x,y]를 사각형으로 보고, **해당 사각형의 합을 해당 좌표의 합**으로 함\n",
    "\n",
    "합 행렬 $D$, 원래 행렬 $A$에 대해,\n",
    "\n",
    "$$\n",
    "D[x,y] = D[x-1, y] + D[x, y-1] - D[x-1,y-1] + A[x,y]\n",
    "$$\n",
    "\n",
    "=> $D[x-1, y-1]$은 사각형의 중복 부분이기 때문에 빼줌\n",
    "\n",
    "\n",
    "### 사각형 합 구하기\n",
    "\n",
    "합 행렬 $D$ 사용!\n",
    "\n",
    "(X1, Y1), (X2, Y2) 로 만들어진 사각형에 대해 그 외곽 사각형 두 개를 빼준 뒤, 해당 두 사각형이 공유하는 부분(무조건 (X1 - 1, Y1 -1))을 더해줌\n",
    "\n",
    "공식\n",
    "$$\n",
    "D[X_2, Y_2] - D[X_1-1, Y_2] - D[X_2, Y_1-1] + D[X_1-1, Y_1-1]\n",
    "$$"
   ]
  },
  {
   "cell_type": "code",
   "execution_count": 3,
   "id": "6ec0c2b9-0086-4de9-9d35-5cc46617f257",
   "metadata": {
    "tags": []
   },
   "outputs": [
    {
     "name": "stdin",
     "output_type": "stream",
     "text": [
      " 2 4\n",
      " 1 2\n",
      " 3 4\n"
     ]
    },
    {
     "ename": "IndexError",
     "evalue": "list index out of range",
     "output_type": "error",
     "traceback": [
      "\u001b[1;31m---------------------------------------------------------------------------\u001b[0m",
      "\u001b[1;31mIndexError\u001b[0m                                Traceback (most recent call last)",
      "Cell \u001b[1;32mIn[3], line 16\u001b[0m\n\u001b[0;32m     14\u001b[0m \u001b[38;5;28;01mfor\u001b[39;00m i \u001b[38;5;129;01min\u001b[39;00m \u001b[38;5;28mrange\u001b[39m(\u001b[38;5;241m1\u001b[39m, N \u001b[38;5;241m+\u001b[39m \u001b[38;5;241m1\u001b[39m):\n\u001b[0;32m     15\u001b[0m     \u001b[38;5;28;01mfor\u001b[39;00m j \u001b[38;5;129;01min\u001b[39;00m \u001b[38;5;28mrange\u001b[39m(\u001b[38;5;241m1\u001b[39m, N \u001b[38;5;241m+\u001b[39m \u001b[38;5;241m1\u001b[39m):\n\u001b[1;32m---> 16\u001b[0m         D_matrix[i][j] \u001b[38;5;241m=\u001b[39m D_matrix[i][j \u001b[38;5;241m-\u001b[39m \u001b[38;5;241m1\u001b[39m] \u001b[38;5;241m+\u001b[39m \u001b[43mD_matrix\u001b[49m\u001b[43m[\u001b[49m\u001b[43mi\u001b[49m\u001b[43m \u001b[49m\u001b[38;5;241;43m-\u001b[39;49m\u001b[43m \u001b[49m\u001b[38;5;241;43m1\u001b[39;49m\u001b[43m]\u001b[49m\u001b[43m[\u001b[49m\u001b[43mj\u001b[49m\u001b[43m]\u001b[49m \u001b[38;5;241m-\u001b[39m D_matrix[i \u001b[38;5;241m-\u001b[39m \u001b[38;5;241m1\u001b[39m][j \u001b[38;5;241m-\u001b[39m \u001b[38;5;241m1\u001b[39m] \u001b[38;5;241m+\u001b[39m A_matrix[i][j]\n\u001b[0;32m     18\u001b[0m \u001b[38;5;28;01mfor\u001b[39;00m _ \u001b[38;5;129;01min\u001b[39;00m \u001b[38;5;28mrange\u001b[39m(M):\n\u001b[0;32m     19\u001b[0m     x1, y1, x2, y2 \u001b[38;5;241m=\u001b[39m \u001b[38;5;28mmap\u001b[39m(\u001b[38;5;28mint\u001b[39m, \u001b[38;5;28minput\u001b[39m()\u001b[38;5;241m.\u001b[39msplit())\n",
      "\u001b[1;31mIndexError\u001b[0m: list index out of range"
     ]
    }
   ],
   "source": [
    "import sys\n",
    "input = sys.stdin.readline\n",
    "\n",
    "N, M = map(int, input().split())\n",
    "\n",
    "A_matrix = [[0] * (N + 1)]\n",
    "\n",
    "for i in range(N):\n",
    "    A_row = [0] + [int(x) for x in input().split()]\n",
    "    A_matrix.append(A_row)\n",
    "\n",
    "D_matrix = [[0] * (N + 1) for _ in range(N + 1)]\n",
    "\n",
    "for i in range(1, N + 1):\n",
    "    for j in range(1, N + 1):\n",
    "        D_matrix[i][j] = D_matrix[i][j - 1] + D_matrix[i - 1][j] - D_matrix[i - 1][j - 1] + A_matrix[i][j]\n",
    "        \n",
    "for _ in range(M):\n",
    "    x1, y1, x2, y2 = map(int, input().split())\n",
    "    result = D_matrix[x2][y2] - D_matrix[x1 - 1][y2] - D_matrix[x2][y1 - 1] + D_matrix[x1 - 1][y1 - 1]\n",
    "    print(result)"
   ]
  },
  {
   "cell_type": "code",
   "execution_count": null,
   "id": "2e7281ea-ea03-4116-9e7f-3680d82402fe",
   "metadata": {},
   "outputs": [],
   "source": [
    "N = 5\n",
    "\n",
    "\n",
    "\n",
    "D_matrix = [[0] * (N * 1) for _ in range(N + 1)]\n",
    "\n",
    "\n",
    "print(D_matrix)"
   ]
  }
 ],
 "metadata": {
  "kernelspec": {
   "display_name": "Python 3 (ipykernel)",
   "language": "python",
   "name": "python3"
  },
  "language_info": {
   "codemirror_mode": {
    "name": "ipython",
    "version": 3
   },
   "file_extension": ".py",
   "mimetype": "text/x-python",
   "name": "python",
   "nbconvert_exporter": "python",
   "pygments_lexer": "ipython3",
   "version": "3.9.12"
  }
 },
 "nbformat": 4,
 "nbformat_minor": 5
}

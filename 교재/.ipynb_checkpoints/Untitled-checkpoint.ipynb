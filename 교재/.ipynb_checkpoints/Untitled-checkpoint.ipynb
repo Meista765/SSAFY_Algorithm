{
 "cells": [
  {
   "cell_type": "markdown",
   "id": "a3d19785-6aab-41c9-ba87-63df01344752",
   "metadata": {},
   "source": [
    "# 1일차 교재 ~ 구간합"
   ]
  },
  {
   "cell_type": "markdown",
   "id": "ed1e23b1-5dda-44d8-a024-24c9f8372da2",
   "metadata": {},
   "source": [
    "## p. 35 001 숫자의 합 구하기"
   ]
  },
  {
   "cell_type": "code",
   "execution_count": 4,
   "id": "b7b4821e-bb5c-4f9c-bf04-bff392071a8a",
   "metadata": {},
   "outputs": [
    {
     "name": "stdin",
     "output_type": "stream",
     "text": [
      " 5\n",
      " 54321\n"
     ]
    },
    {
     "name": "stdout",
     "output_type": "stream",
     "text": [
      "15\n"
     ]
    }
   ],
   "source": [
    "N = int(input())\n",
    "number_list = list(input())\n",
    "\n",
    "num_sum = int()\n",
    "for number in number_list:\n",
    "    num_sum += int(number)\n",
    "    \n",
    "print(num_sum)"
   ]
  },
  {
   "cell_type": "markdown",
   "id": "ffb2bd1a-95ff-4c01-9b3f-b3679ed369af",
   "metadata": {},
   "source": [
    "## p. 38 002 평균 구하기"
   ]
  },
  {
   "cell_type": "code",
   "execution_count": 7,
   "id": "c0fb939d-557e-4b25-9065-8326c05083f9",
   "metadata": {},
   "outputs": [
    {
     "name": "stdin",
     "output_type": "stream",
     "text": [
      " 3\n",
      " 10 20 30\n"
     ]
    },
    {
     "name": "stdout",
     "output_type": "stream",
     "text": [
      "66.66666666666667\n"
     ]
    }
   ],
   "source": [
    "N = int(input())\n",
    "score_list = list(map(int, input().split()))\n",
    "\n",
    "max_score = max(score_list)\n",
    "adjusted_score = list(map(lambda x : x / max_score * 100, score_list))\n",
    "adjusted_mean = sum(adjusted_score) / len(adjusted_score)\n",
    "print(adjusted_mean)"
   ]
  },
  {
   "cell_type": "markdown",
   "id": "f786d650-edff-401a-a39d-8c73d56e28c7",
   "metadata": {},
   "source": [
    "## p. 41 구간 합\n",
    "\n",
    "\n",
    "합 배열 S 정의\n",
    "- $S_i = A_0 + A_1 + A_2 + \\dots + A_{i-1} + A_i$\n",
    "\n",
    "합 배열 공식\n",
    "- $S_i = S_{i-1} + A_i$\n",
    "\n",
    "구간 합 예시\n",
    "- $S_5 - S_1 = A_2 + A_3 + A_4 + A_5$\n"
   ]
  },
  {
   "cell_type": "markdown",
   "id": "06c3845f-6589-4ba9-8e90-2ac4d1052fac",
   "metadata": {},
   "source": [
    "## p. 43 003 구간 합 구하기1"
   ]
  },
  {
   "cell_type": "code",
   "execution_count": null,
   "id": "ffd30b8c-19cf-417a-a858-b127a8b94fad",
   "metadata": {},
   "outputs": [],
   "source": []
  },
  {
   "cell_type": "code",
   "execution_count": null,
   "id": "8b828933-8090-4ca3-9eff-ded3a01e223e",
   "metadata": {},
   "outputs": [],
   "source": []
  },
  {
   "cell_type": "code",
   "execution_count": null,
   "id": "f6d5a2ad-3266-4dbb-a576-99569b1912ec",
   "metadata": {},
   "outputs": [],
   "source": []
  },
  {
   "cell_type": "code",
   "execution_count": null,
   "id": "1ea162ec-12d1-465b-b6d7-1dca015137ce",
   "metadata": {},
   "outputs": [],
   "source": []
  },
  {
   "cell_type": "code",
   "execution_count": null,
   "id": "668c3beb-2c1e-4c1f-bee4-4061def2322d",
   "metadata": {},
   "outputs": [],
   "source": []
  }
 ],
 "metadata": {
  "kernelspec": {
   "display_name": "Python 3 (ipykernel)",
   "language": "python",
   "name": "python3"
  },
  "language_info": {
   "codemirror_mode": {
    "name": "ipython",
    "version": 3
   },
   "file_extension": ".py",
   "mimetype": "text/x-python",
   "name": "python",
   "nbconvert_exporter": "python",
   "pygments_lexer": "ipython3",
   "version": "3.9.12"
  }
 },
 "nbformat": 4,
 "nbformat_minor": 5
}
